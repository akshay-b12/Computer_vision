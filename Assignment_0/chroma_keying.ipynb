{
 "cells": [
  {
   "cell_type": "markdown",
   "metadata": {},
   "source": [
    "## Chroma Keying"
   ]
  },
  {
   "cell_type": "code",
   "execution_count": 6,
   "metadata": {},
   "outputs": [],
   "source": [
    "import cv2 as cv2\n",
    "import numpy as np\n",
    "\n",
    "cap_fg = cv2.VideoCapture(\"videos/Flight.mp4\")\n",
    "cap_bg = cv2.VideoCapture(\"videos/Rain.mp4\")\n",
    "width  = cap_fg.get(cv2.CAP_PROP_FRAME_WIDTH)\n",
    "height = cap_fg.get(cv2.CAP_PROP_FRAME_HEIGHT)\n",
    "outvideo = cv2.VideoWriter('chroma.avi',cv2.VideoWriter_fourcc(*'DIVX'), 30, (int(width), int(height)))\n",
    "while(cap_fg.isOpened()):\n",
    "    ret_fg, frame_fg = cap_fg.read()\n",
    "    ret_bg, frame_bg = cap_bg.read()\n",
    "    if ret_fg == False or ret_fg == False:\n",
    "        break\n",
    "    lower_green = np.array([19, 255, 69])\n",
    "    upper_green = np.array([30, 255, 80])\n",
    "    mask = cv2.inRange(frame_fg, lower_green, lower_green)\n",
    "    #cv2.imshow(\"mask\",mask)\n",
    "    #cv2.waitKey(1)\n",
    "    mask_frame_fg = np.copy(frame_fg)\n",
    "    mask_frame_bg = np.copy(frame_bg)\n",
    "    mask_frame_fg[mask != 0] = [0, 0, 0]\n",
    "    mask_frame_bg[mask == 0] = [0, 0, 0]\n",
    "    final_frame = mask_frame_bg+mask_frame_fg\n",
    "    cv2.imshow(\"final_frame\",final_frame)\n",
    "    cv2.waitKey(1)\n",
    "    outvideo.write(final_frame)\n",
    "    \n",
    "cap_fg.release()\n",
    "cap_bg.release()\n",
    "cv2.destroyAllWindows()"
   ]
  },
  {
   "cell_type": "code",
   "execution_count": 1,
   "metadata": {},
   "outputs": [
    {
     "ename": "KeyboardInterrupt",
     "evalue": "",
     "output_type": "error",
     "traceback": [
      "\u001b[0;31m---------------------------------------------------------------------------\u001b[0m",
      "\u001b[0;31mKeyboardInterrupt\u001b[0m                         Traceback (most recent call last)",
      "\u001b[0;32m<ipython-input-1-33fca7261200>\u001b[0m in \u001b[0;36m<module>\u001b[0;34m\u001b[0m\n\u001b[1;32m      7\u001b[0m     \u001b[0;32mif\u001b[0m \u001b[0mret\u001b[0m \u001b[0;34m==\u001b[0m \u001b[0;32mFalse\u001b[0m\u001b[0;34m:\u001b[0m\u001b[0;34m\u001b[0m\u001b[0;34m\u001b[0m\u001b[0m\n\u001b[1;32m      8\u001b[0m         \u001b[0;32mbreak\u001b[0m\u001b[0;34m\u001b[0m\u001b[0;34m\u001b[0m\u001b[0m\n\u001b[0;32m----> 9\u001b[0;31m     \u001b[0mcv2\u001b[0m\u001b[0;34m.\u001b[0m\u001b[0mimwrite\u001b[0m\u001b[0;34m(\u001b[0m\u001b[0;34m\"img_\"\u001b[0m\u001b[0;34m+\u001b[0m\u001b[0mstr\u001b[0m\u001b[0;34m(\u001b[0m\u001b[0mi\u001b[0m\u001b[0;34m)\u001b[0m\u001b[0;34m+\u001b[0m\u001b[0;34m\".jpg\"\u001b[0m\u001b[0;34m,\u001b[0m \u001b[0mframe\u001b[0m\u001b[0;34m)\u001b[0m\u001b[0;34m\u001b[0m\u001b[0;34m\u001b[0m\u001b[0m\n\u001b[0m\u001b[1;32m     10\u001b[0m     \u001b[0mi\u001b[0m\u001b[0;34m+=\u001b[0m\u001b[0;36m1\u001b[0m\u001b[0;34m\u001b[0m\u001b[0;34m\u001b[0m\u001b[0m\n\u001b[1;32m     11\u001b[0m     \u001b[0mcv2\u001b[0m\u001b[0;34m.\u001b[0m\u001b[0mimshow\u001b[0m\u001b[0;34m(\u001b[0m\u001b[0;34m'frame'\u001b[0m\u001b[0;34m,\u001b[0m\u001b[0mframe\u001b[0m\u001b[0;34m)\u001b[0m\u001b[0;34m\u001b[0m\u001b[0;34m\u001b[0m\u001b[0m\n",
      "\u001b[0;31mKeyboardInterrupt\u001b[0m: "
     ]
    }
   ],
   "source": []
  },
  {
   "cell_type": "code",
   "execution_count": null,
   "metadata": {},
   "outputs": [],
   "source": []
  },
  {
   "cell_type": "code",
   "execution_count": null,
   "metadata": {},
   "outputs": [],
   "source": []
  }
 ],
 "metadata": {
  "kernelspec": {
   "display_name": "Python 3",
   "language": "python",
   "name": "python3"
  },
  "language_info": {
   "codemirror_mode": {
    "name": "ipython",
    "version": 3
   },
   "file_extension": ".py",
   "mimetype": "text/x-python",
   "name": "python",
   "nbconvert_exporter": "python",
   "pygments_lexer": "ipython3",
   "version": "3.6.9"
  }
 },
 "nbformat": 4,
 "nbformat_minor": 2
}
